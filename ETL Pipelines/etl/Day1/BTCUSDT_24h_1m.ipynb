{
 "cells": [
  {
   "cell_type": "code",
   "execution_count": 2,
   "id": "3e9c9286",
   "metadata": {},
   "outputs": [
    {
     "name": "stdout",
     "output_type": "stream",
     "text": [
      "Requirement already satisfied: binance-connector in /Users/jaehyeonjeong/anaconda3/lib/python3.11/site-packages (3.12.0)\n",
      "Requirement already satisfied: requests>=2.31.0 in /Users/jaehyeonjeong/anaconda3/lib/python3.11/site-packages (from binance-connector) (2.31.0)\n",
      "Requirement already satisfied: websocket-client>=1.6.3 in /Users/jaehyeonjeong/anaconda3/lib/python3.11/site-packages (from binance-connector) (1.8.0)\n",
      "Requirement already satisfied: pycryptodome>=3.15.0 in /Users/jaehyeonjeong/anaconda3/lib/python3.11/site-packages (from binance-connector) (3.23.0)\n",
      "Requirement already satisfied: charset-normalizer<4,>=2 in /Users/jaehyeonjeong/anaconda3/lib/python3.11/site-packages (from requests>=2.31.0->binance-connector) (2.0.4)\n",
      "Requirement already satisfied: idna<4,>=2.5 in /Users/jaehyeonjeong/anaconda3/lib/python3.11/site-packages (from requests>=2.31.0->binance-connector) (3.4)\n",
      "Requirement already satisfied: urllib3<3,>=1.21.1 in /Users/jaehyeonjeong/anaconda3/lib/python3.11/site-packages (from requests>=2.31.0->binance-connector) (1.26.16)\n",
      "Requirement already satisfied: certifi>=2017.4.17 in /Users/jaehyeonjeong/anaconda3/lib/python3.11/site-packages (from requests>=2.31.0->binance-connector) (2023.7.22)\n",
      "\n",
      "\u001b[1m[\u001b[0m\u001b[34;49mnotice\u001b[0m\u001b[1;39;49m]\u001b[0m\u001b[39;49m A new release of pip is available: \u001b[0m\u001b[31;49m25.1.1\u001b[0m\u001b[39;49m -> \u001b[0m\u001b[32;49m25.2\u001b[0m\n",
      "\u001b[1m[\u001b[0m\u001b[34;49mnotice\u001b[0m\u001b[1;39;49m]\u001b[0m\u001b[39;49m To update, run: \u001b[0m\u001b[32;49mpip install --upgrade pip\u001b[0m\n",
      "Note: you may need to restart the kernel to use updated packages.\n"
     ]
    }
   ],
   "source": [
    "pip install binance-connector"
   ]
  },
  {
   "cell_type": "code",
   "execution_count": 21,
   "id": "a3b64078",
   "metadata": {},
   "outputs": [
    {
     "name": "stdout",
     "output_type": "stream",
     "text": [
      "                OT               OP               HP               LP  \\\n",
      "0    1759097040000  110884.57000000  110912.74000000  110883.00000000   \n",
      "1    1759097100000  110912.74000000  111145.00000000  110912.73000000   \n",
      "2    1759097160000  111145.00000000  111499.79000000  111145.00000000   \n",
      "3    1759097220000  111464.29000000  111524.98000000  111403.00000000   \n",
      "4    1759097280000  111403.00000000  111530.87000000  111377.91000000   \n",
      "..             ...              ...              ...              ...   \n",
      "995  1759156740000  113909.68000000  113924.93000000  113909.67000000   \n",
      "996  1759156800000  113923.41000000  113926.24000000  113920.91000000   \n",
      "997  1759156860000  113926.23000000  114180.00000000  113926.23000000   \n",
      "998  1759156920000  114071.77000000  114127.07000000  114020.00000000   \n",
      "999  1759156980000  114127.07000000  114130.54000000  114050.00000000   \n",
      "\n",
      "                  CP             V             CT                QAV     NT  \\\n",
      "0    110912.73000000   11.47790000  1759097099999   1272768.08381580   1639   \n",
      "1    111145.00000000  139.99416000  1759097159999  15545707.93071240   9030   \n",
      "2    111464.29000000  145.73367000  1759097219999  16225774.08512260  17446   \n",
      "3    111403.00000000   45.54300000  1759097279999   5076540.93904220   7581   \n",
      "4    111480.98000000   11.09672000  1759097339999   1236888.13307820   5783   \n",
      "..               ...           ...            ...                ...    ...   \n",
      "995  113923.41000000   31.21787000  1759156799999   3556381.73879670   1417   \n",
      "996  113926.24000000   10.71790000  1759156859999   1221018.16412550    994   \n",
      "997  114071.78000000  110.29166000  1759156919999  12581710.84693940  17133   \n",
      "998  114127.06000000   51.77623000  1759156979999   5905616.14860610   8051   \n",
      "999  114065.07000000   31.80775000  1759157039999   3629253.32294530   5318   \n",
      "\n",
      "             TBAV               TBQV  I  \n",
      "0     10.01899000   1110977.71897870  0  \n",
      "1    101.85055000  11308176.85850540  0  \n",
      "2     96.51741000  10744879.73400540  0  \n",
      "3     25.65631000   2860124.80920140  0  \n",
      "4      5.30723000    591531.57863830  0  \n",
      "..            ...                ... ..  \n",
      "995    6.23865000    710704.95415600  0  \n",
      "996    9.04622000   1030571.61015490  0  \n",
      "997   69.59552000   7937550.20813100  0  \n",
      "998   23.82598000   2717593.08828700  0  \n",
      "999    8.64316000    986085.66782630  0  \n",
      "\n",
      "[1000 rows x 12 columns]\n"
     ]
    }
   ],
   "source": [
    "from binance.spot import Spot #bring class from api\n",
    "import pandas as pd\n",
    "client = Spot() #create an obj\n",
    "\n",
    "data = client.klines(\"BTCUSDT\", \"1m\", limit = 1440)\n",
    "\n",
    "df = pd.DataFrame(data, columns=[\"OT\", \"OP\", \"HP\", \"LP\", \"CP\", \"V\", \"CT\", \"QAV\", \"NT\", \"TBAV\", \"TBQV\", \"I\"])\n",
    "print (df)"
   ]
  },
  {
   "cell_type": "code",
   "execution_count": 20,
   "id": "c753fbe3",
   "metadata": {},
   "outputs": [],
   "source": [
    "df.to_csv(\"1m_BTCUSDT_day.csv\", index=True)"
   ]
  },
  {
   "cell_type": "code",
   "execution_count": null,
   "id": "a1b67e22",
   "metadata": {},
   "outputs": [],
   "source": []
  }
 ],
 "metadata": {
  "kernelspec": {
   "display_name": "Python 3 (ipykernel)",
   "language": "python",
   "name": "python3"
  },
  "language_info": {
   "codemirror_mode": {
    "name": "ipython",
    "version": 3
   },
   "file_extension": ".py",
   "mimetype": "text/x-python",
   "name": "python",
   "nbconvert_exporter": "python",
   "pygments_lexer": "ipython3",
   "version": "3.11.5"
  }
 },
 "nbformat": 4,
 "nbformat_minor": 5
}
